{
 "cells": [
  {
   "cell_type": "markdown",
   "id": "5d12899a",
   "metadata": {},
   "source": [
    "# Iterators in Python"
   ]
  },
  {
   "cell_type": "markdown",
   "id": "25aea812",
   "metadata": {},
   "source": [
    "Itenration over a list"
   ]
  },
  {
   "cell_type": "code",
   "execution_count": null,
   "id": "857f2fe2",
   "metadata": {},
   "outputs": [],
   "source": [
    "for x in [1,4,5,10]:\n",
    "    print(x, end=' ')"
   ]
  },
  {
   "cell_type": "markdown",
   "id": "81a563a6",
   "metadata": {},
   "source": [
    "Iteration over a Dictionary"
   ]
  },
  {
   "cell_type": "code",
   "execution_count": null,
   "id": "74f7c4d1",
   "metadata": {},
   "outputs": [],
   "source": [
    "prices={'GOOG' :490.10,\n",
    "        'AAPL' :145.23,\n",
    "        'YHOO' :21.71 }\n",
    "for key in prices:\n",
    "    print(x, key)"
   ]
  },
  {
   "cell_type": "markdown",
   "id": "36d1d1c1",
   "metadata": {},
   "source": [
    "Iteration over a string"
   ]
  },
  {
   "cell_type": "code",
   "execution_count": null,
   "id": "4c2ecc27",
   "metadata": {
    "scrolled": false
   },
   "outputs": [],
   "source": [
    "s = \"CMPS3500...!\"\n",
    "for character in s:\n",
    "    print(character)"
   ]
  },
  {
   "cell_type": "markdown",
   "id": "cad15dbd",
   "metadata": {},
   "source": [
    "Iterating over a file"
   ]
  },
  {
   "cell_type": "code",
   "execution_count": null,
   "id": "b5a6a210",
   "metadata": {},
   "outputs": [],
   "source": [
    "for line in open(\"I_Robot.txt\", encoding=\"utf8\"): print(line, end='')"
   ]
  },
  {
   "cell_type": "markdown",
   "id": "864a8d29",
   "metadata": {},
   "source": [
    "Simple iterator"
   ]
  },
  {
   "cell_type": "code",
   "execution_count": null,
   "id": "7ef412c5",
   "metadata": {},
   "outputs": [],
   "source": [
    "items = [1, 4, 5]\n",
    "it = iter(items)\n",
    "next(it)"
   ]
  },
  {
   "cell_type": "code",
   "execution_count": null,
   "id": "f8ab2067",
   "metadata": {},
   "outputs": [],
   "source": [
    "it.__next__()"
   ]
  },
  {
   "cell_type": "code",
   "execution_count": null,
   "id": "c9c29a85",
   "metadata": {},
   "outputs": [],
   "source": [
    "it.__next__()"
   ]
  },
  {
   "cell_type": "code",
   "execution_count": null,
   "id": "e10ee524",
   "metadata": {},
   "outputs": [],
   "source": [
    "it.__next__()"
   ]
  },
  {
   "cell_type": "markdown",
   "id": "487fe1cc",
   "metadata": {},
   "source": [
    "Simple Countdown"
   ]
  },
  {
   "cell_type": "code",
   "execution_count": null,
   "id": "e889245a",
   "metadata": {},
   "outputs": [],
   "source": [
    "class countdown(object):\n",
    "    def __init__(self,start):\n",
    "        self.start = start\n",
    "    def __iter__(self):\n",
    "        return countdown_iter(self.start)\n",
    "\n",
    "class countdown_iter(object):  \n",
    "    def __init__(self, count):\n",
    "        self.count = count  \n",
    "    def __next__(self): \n",
    "        if self.count <= 0:  \n",
    "            raise StopIteration\n",
    "        r = self.count\n",
    "        self.count -= 1  \n",
    "        return r"
   ]
  },
  {
   "cell_type": "code",
   "execution_count": null,
   "id": "4e99f20e",
   "metadata": {},
   "outputs": [],
   "source": [
    "for x in countdown(10):\n",
    "    print(x, end=' ')"
   ]
  },
  {
   "cell_type": "code",
   "execution_count": null,
   "id": "441d1d90",
   "metadata": {},
   "outputs": [],
   "source": [
    "for x in countdown(10.5):\n",
    "    print(x, end=' ')"
   ]
  },
  {
   "cell_type": "markdown",
   "id": "4717bbf9",
   "metadata": {},
   "source": [
    "# Generators in Python"
   ]
  },
  {
   "cell_type": "markdown",
   "id": "18d8ea86",
   "metadata": {},
   "source": [
    "Simple generator in Phyton"
   ]
  },
  {
   "cell_type": "code",
   "execution_count": null,
   "id": "8dd3d4f8",
   "metadata": {},
   "outputs": [],
   "source": [
    "def countdown1(n):  \n",
    "    while n > 0:\n",
    "        yield n\n",
    "        n -= 1"
   ]
  },
  {
   "cell_type": "code",
   "execution_count": null,
   "id": "f1fb21aa",
   "metadata": {},
   "outputs": [],
   "source": [
    "for x in countdown1(10):\n",
    "    print(x, end=' ')"
   ]
  },
  {
   "cell_type": "code",
   "execution_count": null,
   "id": "f1e1cf7d",
   "metadata": {},
   "outputs": [],
   "source": [
    "def countdown2(n):\n",
    "    print(\"Counting down from\", n)\n",
    "    while n > 0:\n",
    "        yield n\n",
    "        n -= 1"
   ]
  },
  {
   "cell_type": "code",
   "execution_count": null,
   "id": "6957d2ad",
   "metadata": {},
   "outputs": [],
   "source": [
    "for x in countdown2(10):\n",
    "    print(x, end=' ')"
   ]
  },
  {
   "cell_type": "markdown",
   "id": "fc224dd1",
   "metadata": {},
   "source": [
    "Behavior of Generators"
   ]
  },
  {
   "cell_type": "code",
   "execution_count": null,
   "id": "8720232f",
   "metadata": {},
   "outputs": [],
   "source": [
    "y = countdown2(10)"
   ]
  },
  {
   "cell_type": "code",
   "execution_count": null,
   "id": "30beaf96",
   "metadata": {},
   "outputs": [],
   "source": [
    "y"
   ]
  },
  {
   "cell_type": "code",
   "execution_count": null,
   "id": "901f38f0",
   "metadata": {},
   "outputs": [],
   "source": [
    "y.__next__()"
   ]
  },
  {
   "cell_type": "code",
   "execution_count": null,
   "id": "83c0eacf",
   "metadata": {},
   "outputs": [],
   "source": [
    "y.__next__()"
   ]
  },
  {
   "cell_type": "code",
   "execution_count": null,
   "id": "9a7e0c39",
   "metadata": {},
   "outputs": [],
   "source": [
    "y.__next__()"
   ]
  },
  {
   "cell_type": "code",
   "execution_count": null,
   "id": "d95bd2e3",
   "metadata": {},
   "outputs": [],
   "source": [
    "y.__next__()"
   ]
  },
  {
   "cell_type": "code",
   "execution_count": null,
   "id": "36caedf8",
   "metadata": {},
   "outputs": [],
   "source": [
    "y.__next__()"
   ]
  },
  {
   "cell_type": "code",
   "execution_count": null,
   "id": "f9ee8466",
   "metadata": {},
   "outputs": [],
   "source": [
    "y.__next__()"
   ]
  },
  {
   "cell_type": "code",
   "execution_count": null,
   "id": "84624c95",
   "metadata": {},
   "outputs": [],
   "source": [
    "y.__next__()"
   ]
  },
  {
   "cell_type": "code",
   "execution_count": null,
   "id": "85ead6a4",
   "metadata": {},
   "outputs": [],
   "source": [
    "y.__next__()"
   ]
  },
  {
   "cell_type": "code",
   "execution_count": null,
   "id": "97669606",
   "metadata": {},
   "outputs": [],
   "source": [
    "y.__next__()"
   ]
  },
  {
   "cell_type": "code",
   "execution_count": null,
   "id": "b31582ec",
   "metadata": {},
   "outputs": [],
   "source": [
    "y.__next__()"
   ]
  },
  {
   "cell_type": "code",
   "execution_count": null,
   "id": "d3ca50e4",
   "metadata": {},
   "outputs": [],
   "source": [
    "y.__next__()"
   ]
  },
  {
   "cell_type": "markdown",
   "id": "dea153f0",
   "metadata": {},
   "source": [
    "Generator Expressions"
   ]
  },
  {
   "cell_type": "code",
   "execution_count": null,
   "id": "2ba16286",
   "metadata": {},
   "outputs": [],
   "source": [
    "a = [1, 2, 3, 4]\n",
    "b = (2*x for x in a)\n",
    "b"
   ]
  },
  {
   "cell_type": "code",
   "execution_count": null,
   "id": "608a1a32",
   "metadata": {},
   "outputs": [],
   "source": [
    "for i in range(4): \n",
    "    print(b.__next__(), end=' ')"
   ]
  },
  {
   "cell_type": "code",
   "execution_count": null,
   "id": "de7b03ce",
   "metadata": {},
   "outputs": [],
   "source": [
    "for i in range(4): \n",
    "    print(i, end=' ')"
   ]
  },
  {
   "cell_type": "code",
   "execution_count": null,
   "id": "0feb09d8",
   "metadata": {},
   "outputs": [],
   "source": [
    "c = (2*x for x in a)"
   ]
  },
  {
   "cell_type": "code",
   "execution_count": null,
   "id": "ac1c1a43",
   "metadata": {},
   "outputs": [],
   "source": [
    "for i in c: \n",
    "    print(c.__next__(), end=' ')"
   ]
  },
  {
   "cell_type": "markdown",
   "id": "3beefb35",
   "metadata": {},
   "source": [
    "Infinite sequence"
   ]
  },
  {
   "cell_type": "code",
   "execution_count": null,
   "id": "2dcabcaf",
   "metadata": {},
   "outputs": [],
   "source": [
    "def infinite_sequence():\n",
    "    num = 0\n",
    "    while True:\n",
    "        yield num\n",
    "        num += 1\n",
    "        \n",
    "gen = infinite_sequence()"
   ]
  },
  {
   "cell_type": "code",
   "execution_count": null,
   "id": "0351d2a8",
   "metadata": {},
   "outputs": [],
   "source": [
    "next(gen)"
   ]
  },
  {
   "cell_type": "code",
   "execution_count": null,
   "id": "67b376cb",
   "metadata": {},
   "outputs": [],
   "source": [
    "next(gen)"
   ]
  },
  {
   "cell_type": "code",
   "execution_count": null,
   "id": "dcdca311",
   "metadata": {},
   "outputs": [],
   "source": [
    "next(gen)"
   ]
  },
  {
   "cell_type": "code",
   "execution_count": null,
   "id": "ede56551",
   "metadata": {},
   "outputs": [],
   "source": [
    "next(gen)"
   ]
  },
  {
   "cell_type": "markdown",
   "id": "3e1bb642",
   "metadata": {},
   "source": [
    "This will print an infinite sequence until you stop executing the program"
   ]
  },
  {
   "cell_type": "code",
   "execution_count": null,
   "id": "062def6e",
   "metadata": {},
   "outputs": [],
   "source": [
    "for i in infinite_sequence():\n",
    "    print(i, end=\" \")"
   ]
  },
  {
   "cell_type": "markdown",
   "id": "7e2c2623",
   "metadata": {},
   "source": [
    "Function to detect numerical palindromes:"
   ]
  },
  {
   "cell_type": "code",
   "execution_count": null,
   "id": "eb209d9e",
   "metadata": {},
   "outputs": [],
   "source": [
    "def is_palindrome(num):\n",
    "    # Skip single-digit inputs\n",
    "    if num // 10 == 0:\n",
    "        return False\n",
    "    temp = num\n",
    "    reversed_num = 0\n",
    "\n",
    "    while temp != 0:\n",
    "        reversed_num = (reversed_num * 10) + (temp % 10)\n",
    "        temp = temp // 10\n",
    "\n",
    "    if num == reversed_num:\n",
    "        return num\n",
    "    else:\n",
    "        return False"
   ]
  },
  {
   "cell_type": "code",
   "execution_count": null,
   "id": "7265ebbd",
   "metadata": {},
   "outputs": [],
   "source": [
    "is_palindrome(12)"
   ]
  },
  {
   "cell_type": "code",
   "execution_count": null,
   "id": "a1001944",
   "metadata": {},
   "outputs": [],
   "source": [
    "is_palindrome(121)"
   ]
  },
  {
   "cell_type": "code",
   "execution_count": null,
   "id": "0ab48c37",
   "metadata": {},
   "outputs": [],
   "source": [
    "for i in infinite_sequence():\n",
    "    pal = is_palindrome(i)\n",
    "    if pal:\n",
    "        print(i)"
   ]
  },
  {
   "cell_type": "markdown",
   "id": "07342f1c",
   "metadata": {},
   "source": [
    "Generator Efficiency"
   ]
  },
  {
   "cell_type": "code",
   "execution_count": null,
   "id": "ccc3be70",
   "metadata": {},
   "outputs": [],
   "source": [
    "import sys"
   ]
  },
  {
   "cell_type": "code",
   "execution_count": null,
   "id": "8afa8324",
   "metadata": {},
   "outputs": [],
   "source": [
    "nums_squared_lc = [num**2 for num in range(500)]  ## <<-- This is a list\n",
    "nums_squared_gc = (num**2 for num in range(500))  ## <<-- This is a generator"
   ]
  },
  {
   "cell_type": "code",
   "execution_count": null,
   "id": "f388b246",
   "metadata": {},
   "outputs": [],
   "source": [
    "nums_squared_lc"
   ]
  },
  {
   "cell_type": "code",
   "execution_count": null,
   "id": "ad3164e9",
   "metadata": {},
   "outputs": [],
   "source": [
    "nums_squared_gc"
   ]
  },
  {
   "cell_type": "code",
   "execution_count": null,
   "id": "0a8e5a2b",
   "metadata": {},
   "outputs": [],
   "source": [
    "sys.getsizeof(nums_squared_lc)"
   ]
  },
  {
   "cell_type": "code",
   "execution_count": null,
   "id": "2eb9c4f1",
   "metadata": {},
   "outputs": [],
   "source": [
    "print(sys.getsizeof(nums_squared_gc))"
   ]
  },
  {
   "cell_type": "markdown",
   "id": "c974fd89",
   "metadata": {},
   "source": [
    "Generating a list and generators of the first 10000 numbers"
   ]
  },
  {
   "cell_type": "code",
   "execution_count": null,
   "id": "6fc3f9e6",
   "metadata": {},
   "outputs": [],
   "source": [
    "import cProfile"
   ]
  },
  {
   "cell_type": "code",
   "execution_count": null,
   "id": "8f4d6c4d",
   "metadata": {},
   "outputs": [],
   "source": [
    "cProfile.run('sum([i * 2 for i in range(100000)])')"
   ]
  },
  {
   "cell_type": "code",
   "execution_count": null,
   "id": "3240cd27",
   "metadata": {},
   "outputs": [],
   "source": [
    "cProfile.run('sum((i * 2 for i in range(100000)))')"
   ]
  },
  {
   "cell_type": "markdown",
   "id": "73ddaa8c",
   "metadata": {},
   "source": [
    "Interator detector function using send() and close()"
   ]
  },
  {
   "cell_type": "code",
   "execution_count": null,
   "id": "d3bf2e5e",
   "metadata": {},
   "outputs": [],
   "source": [
    "def infinite_palindromes():\n",
    "    num = 0\n",
    "    while True:\n",
    "        if is_palindrome(num):\n",
    "            i = (yield num)\n",
    "            if i is not None:\n",
    "                num = i\n",
    "        num += 1"
   ]
  },
  {
   "cell_type": "code",
   "execution_count": null,
   "id": "6b5c5a0d",
   "metadata": {},
   "outputs": [],
   "source": [
    "pal_gen = infinite_palindromes()\n",
    "for i in pal_gen:\n",
    "    print(i)\n",
    "    digits = len(str(i))\n",
    "    if digits == 10:\n",
    "        pal_gen.close()\n",
    "    pal_gen.send(10 ** (digits))"
   ]
  },
  {
   "cell_type": "code",
   "execution_count": null,
   "id": "9be04ae9",
   "metadata": {},
   "outputs": [],
   "source": []
  }
 ],
 "metadata": {
  "kernelspec": {
   "display_name": "Python 3 (ipykernel)",
   "language": "python",
   "name": "python3"
  },
  "language_info": {
   "codemirror_mode": {
    "name": "ipython",
    "version": 3
   },
   "file_extension": ".py",
   "mimetype": "text/x-python",
   "name": "python",
   "nbconvert_exporter": "python",
   "pygments_lexer": "ipython3",
   "version": "3.8.8"
  }
 },
 "nbformat": 4,
 "nbformat_minor": 5
}
